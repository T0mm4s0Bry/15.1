{
  "cells": [
    {
      "cell_type": "markdown",
      "metadata": {
        "id": "view-in-github",
        "colab_type": "text"
      },
      "source": [
        "<a href=\"https://colab.research.google.com/github/T0mm4s0Bry/15.1/blob/main/PreparazioneVerifica2.ipynb\" target=\"_parent\"><img src=\"https://colab.research.google.com/assets/colab-badge.svg\" alt=\"Open In Colab\"/></a>"
      ]
    },
    {
      "cell_type": "markdown",
      "id": "9de26355-d24c-438b-8569-20bb2c23b606",
      "metadata": {
        "id": "9de26355-d24c-438b-8569-20bb2c23b606"
      },
      "source": [
        "Data Classe Cognome Nome"
      ]
    },
    {
      "cell_type": "markdown",
      "id": "086f2cf4-cc8d-4ca7-b9b5-91f7a7b72cae",
      "metadata": {
        "id": "086f2cf4-cc8d-4ca7-b9b5-91f7a7b72cae"
      },
      "source": [
        "# Gestione di una Rubrica Telefonica\n",
        "**Step 1. Creare una struttura dati per la rubrica**\n",
        "\n",
        "Crea una lista vuota chiamata `rubrica`, dove ogni contatto sarà rappresentato come un dizionario con i campi: `nome`, `telefono`."
      ]
    },
    {
      "cell_type": "code",
      "execution_count": 18,
      "id": "6843b271-70ca-4c40-be48-b9beb80b5346",
      "metadata": {
        "id": "6843b271-70ca-4c40-be48-b9beb80b5346"
      },
      "outputs": [],
      "source": [
        "rubrica = []"
      ]
    },
    {
      "cell_type": "markdown",
      "id": "19dbb264-5802-490f-be96-56acb95d9e94",
      "metadata": {
        "id": "19dbb264-5802-490f-be96-56acb95d9e94"
      },
      "source": [
        "**Punto 2: Aggiungere un contatto**\n",
        "\n",
        "Scrivi una funzione `aggiungi_contatto` che:\n",
        "* Chiede all'utente il nome e il numero di telefono.\n",
        "* Aggiunge un dizionario con i dati nella lista rubrica."
      ]
    },
    {
      "cell_type": "code",
      "execution_count": 19,
      "id": "ada7b654-5fb4-4621-a49d-6e512a94f068",
      "metadata": {
        "colab": {
          "base_uri": "https://localhost:8080/"
        },
        "id": "ada7b654-5fb4-4621-a49d-6e512a94f068",
        "outputId": "824bb72e-91f9-4a1d-9208-59030d32e759"
      },
      "outputs": [
        {
          "name": "stdout",
          "output_type": "stream",
          "text": [
            "inserisci il nome pupo\n",
            "inserisci il numero di telefono di pupo 212213123\n"
          ]
        }
      ],
      "source": [
        "\n",
        "nome= input(\"inserisci il nome \")\n",
        "telefono= input(f\"inserisci il numero di telefono di {nome} \")\n",
        "def aggiungi_contatto(nome,telefono):\n",
        "  rubrica.append({'nome': nome, 'telefono': telefono})\n",
        "  aggiungi_contatto(nome,telefono)"
      ]
    },
    {
      "cell_type": "markdown",
      "id": "4e147fb2-8d2d-46fe-b468-cc3adf29366f",
      "metadata": {
        "id": "4e147fb2-8d2d-46fe-b468-cc3adf29366f"
      },
      "source": [
        "**Punto 3: Visualizzare tutti i contatti**\n",
        "\n",
        "Scrivi una funzione `visualizza_contatti` che:\n",
        "* Stampa tutti i contatti della rubrica in un formato leggibile (esempio: \"Nome: Mario, Telefono: 123456\")."
      ]
    },
    {
      "cell_type": "code",
      "execution_count": 20,
      "id": "0522f84c-e96c-4832-a2b0-ae21ff93192d",
      "metadata": {
        "id": "0522f84c-e96c-4832-a2b0-ae21ff93192d"
      },
      "outputs": [],
      "source": [
        "def visualizza_contatti(rubrica):\n",
        "  for contatto in rubrica:\n",
        "    print(f\"nome: {contatto['nome']}\" \"telefono: {contatto['telefono']}\")\n",
        "visualizza_contatti(rubrica)\n",
        "\n"
      ]
    },
    {
      "cell_type": "markdown",
      "id": "9ba64020-c46d-4b12-b5cd-e16d117faa86",
      "metadata": {
        "id": "9ba64020-c46d-4b12-b5cd-e16d117faa86"
      },
      "source": [
        "**Punto 4: Cercare un contatto per nome**\n",
        "\n",
        "Scrivi una funzione `cerca_contatto` che:\n",
        "* Chiede all'utente il nome del contatto da cercare.\n",
        "* Stampa i dati del contatto se trovato, o un messaggio di errore in caso contrario."
      ]
    },
    {
      "cell_type": "code",
      "execution_count": 22,
      "id": "96c2c1d7-df66-4ffd-8b66-cfe11c6e0840",
      "metadata": {
        "colab": {
          "base_uri": "https://localhost:8080/"
        },
        "id": "96c2c1d7-df66-4ffd-8b66-cfe11c6e0840",
        "outputId": "3a4e868a-c40d-45d1-a139-84cadbe1936b"
      },
      "outputs": [
        {
          "output_type": "stream",
          "name": "stdout",
          "text": [
            "inserisci il nome da cercare pupo\n",
            "contatto non trovato in rubrica\n"
          ]
        }
      ],
      "source": [
        "\n",
        "def cerca_contatto(nome, rubrica):\n",
        "  trovato = False\n",
        "  for contatto in rubrica:\n",
        "    if contatto['nome'] == nome:\n",
        "      print(f\"nome: {contatto['nome']}, telefono: {contatto['telefono']}\")\n",
        "      trovato = True\n",
        "  if trovato == False:\n",
        "      print(f\"contatto non trovato in rubrica\")\n",
        "\n",
        "nome = input(\"inserisci il nome da cercare \")\n",
        "cerca_contatto(nome, rubrica)"
      ]
    },
    {
      "cell_type": "markdown",
      "id": "cfbdd4dc-4842-4514-baca-43568e8dd81f",
      "metadata": {
        "id": "cfbdd4dc-4842-4514-baca-43568e8dd81f"
      },
      "source": [
        "**Punto 5: Modificare un contatto esistente**\n",
        "\n",
        "Scrivi una funzione `modifica_contatto` che:\n",
        "* Chiede all'utente il nome del contatto da modificare.\n",
        "* Se il contatto esiste, consente di aggiornare il numero di telefono. Altrimenti, informa che il contatto non esiste."
      ]
    },
    {
      "cell_type": "code",
      "execution_count": null,
      "id": "524d56f3-fdaf-45b0-9716-4fa0833e2a3d",
      "metadata": {
        "id": "524d56f3-fdaf-45b0-9716-4fa0833e2a3d"
      },
      "outputs": [],
      "source": [
        "def modifica_contatto(nome,rubrica):\n",
        "  num = \"\"\n",
        "  for contatto in rubrica:\n",
        "    if contatto['nome'] == nome:\n",
        "      num = input(\"inserisci il nuovo numero di telefono\")\n",
        "      contatto['telefono'] = num\n",
        "      trovato= True\n",
        "  if trovato == True :\n",
        "    print(f\"{nome}non esiste\")\n",
        "nome = input(\"inserisci il nome del contatto da modificare\")\n",
        "modifica_contatto(nome,rubrica)"
      ]
    },
    {
      "cell_type": "markdown",
      "id": "5523d1f8-667d-4131-80d3-aab00da4ffac",
      "metadata": {
        "id": "5523d1f8-667d-4131-80d3-aab00da4ffac"
      },
      "source": [
        "**Punto 6: Menu interattivo**\n",
        "\n",
        "Crea una `funzione menu` che:\n",
        "* Mostra un menu con opzioni numerate (1. Aggiungi contatto, 2. Visualizza contatti, 3. Cerca contatto, 4. Modifica contatto, 5. Esci).\n",
        "* Esegue le funzioni corrispondenti in base alla scelta dell'utente."
      ]
    },
    {
      "cell_type": "code",
      "execution_count": null,
      "id": "f10f7364-b90d-492c-bc02-09c83de5299c",
      "metadata": {
        "id": "f10f7364-b90d-492c-bc02-09c83de5299c"
      },
      "outputs": [],
      "source": []
    },
    {
      "cell_type": "markdown",
      "id": "5d661690-99de-4cc1-98b4-677d421106fa",
      "metadata": {
        "id": "5d661690-99de-4cc1-98b4-677d421106fa"
      },
      "source": [
        "**Punto 7: Ordinare la rubrica**\n",
        "\n",
        "Scrivi una funzione `ordina_rubrica` che:\n",
        "* Ordina i contatti in ordine alfabetico per nome.\n",
        "* Chiama questa funzione dopo aver aggiunto o modificato un contatto."
      ]
    },
    {
      "cell_type": "code",
      "execution_count": null,
      "id": "1f8659d2-a6ba-4d6e-ae16-9993cc497b94",
      "metadata": {
        "id": "1f8659d2-a6ba-4d6e-ae16-9993cc497b94"
      },
      "outputs": [],
      "source": []
    },
    {
      "cell_type": "markdown",
      "id": "83c99025-984b-476c-b1d9-397f9f2a19f9",
      "metadata": {
        "id": "83c99025-984b-476c-b1d9-397f9f2a19f9"
      },
      "source": [
        "**Punto 8: Funzione per contare i contatti**\n",
        "\n",
        "Scrivi una funzione `conta_contatti` che:\n",
        "* Stampa il numero totale di contatti presenti nella rubrica."
      ]
    },
    {
      "cell_type": "code",
      "execution_count": null,
      "id": "8c645759-5197-4ef8-84fa-4ef913594b72",
      "metadata": {
        "id": "8c645759-5197-4ef8-84fa-4ef913594b72"
      },
      "outputs": [],
      "source": []
    },
    {
      "cell_type": "markdown",
      "id": "c0d363ec-c282-4776-ba68-98a0d2c8191f",
      "metadata": {
        "id": "c0d363ec-c282-4776-ba68-98a0d2c8191f"
      },
      "source": [
        "**Punto 9: Integrazione finale**\n",
        "\n",
        "Integra tutte le funzioni in un unico programma:\n",
        "* Quando il programma viene eseguito, mostra il menu e consente all'utente di interagire con le varie opzioni.\n",
        "* Il programma continua a funzionare fino a quando l'utente sceglie di uscire."
      ]
    },
    {
      "cell_type": "code",
      "execution_count": null,
      "id": "5e600772-5c9f-4c75-9520-8b06ec6b8e44",
      "metadata": {
        "id": "5e600772-5c9f-4c75-9520-8b06ec6b8e44"
      },
      "outputs": [],
      "source": []
    }
  ],
  "metadata": {
    "kernelspec": {
      "display_name": "Python 3 (ipykernel)",
      "language": "python",
      "name": "python3"
    },
    "language_info": {
      "codemirror_mode": {
        "name": "ipython",
        "version": 3
      },
      "file_extension": ".py",
      "mimetype": "text/x-python",
      "name": "python",
      "nbconvert_exporter": "python",
      "pygments_lexer": "ipython3",
      "version": "3.12.7"
    },
    "colab": {
      "provenance": [],
      "include_colab_link": true
    }
  },
  "nbformat": 4,
  "nbformat_minor": 5
}